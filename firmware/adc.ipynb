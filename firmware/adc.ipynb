{
 "cells": [
  {
   "attachments": {},
   "cell_type": "markdown",
   "metadata": {},
   "source": [
    "![](img/Tsampl.png) ![](img/Tsar.png)\n",
    "\n",
    "![](img/ADC%20timing.png)\n",
    "\n",
    "\n",
    "\n"
   ]
  },
  {
   "cell_type": "code",
   "execution_count": 1,
   "metadata": {},
   "outputs": [
    {
     "name": "stdout",
     "output_type": "stream",
     "text": [
      "Note: you may need to restart the kernel to use updated packages.\n"
     ]
    }
   ],
   "source": [
    "%pip install -q numpy scipy pandas"
   ]
  },
  {
   "cell_type": "code",
   "execution_count": 3,
   "metadata": {},
   "outputs": [
    {
     "name": "stdout",
     "output_type": "stream",
     "text": [
      "Tbussy:  1.5428571428571428e-05\n",
      "Tfree:  1.2380952380952395e-06\n",
      "Tfree(%) 7.428571428571437\n",
      "Bit gain 0.0\n",
      "maximum value (oversample):  0xfff\n",
      "maximum value shifted (oversample) 0xfff\n",
      "========== CONF ==========\n",
      "Resolution:  12\n",
      "Oversampling:  1 x\n",
      "Minimum Bit Shift 0\n",
      "Number of conversion:  4\n",
      "Channel:  Ibat\n",
      "Channel °N:  1\n",
      "Sampling Time:  41.5\n",
      "Channel:  Ibat\n",
      "Channel °N:  1\n",
      "Sampling Time:  41.5\n",
      "Channel:  Ibat\n",
      "Channel °N:  1\n",
      "Sampling Time:  41.5\n",
      "Channel:  Ibat\n",
      "Channel °N:  1\n",
      "Sampling Time:  41.5\n"
     ]
    }
   ],
   "source": [
    "import numpy as np\n",
    "\n",
    "#Sample time SMP\n",
    "Tsampl = np.array([1.5, 7.5, 13.5, 28.5, 41.5, 55.5, 71.5, 239.5])\n",
    "\n",
    "channel_conf = {\n",
    "    \"Ibat\": {\"channel\" : 1, \"Tsample\" : Tsampl[4], \"Rin\" : 120},\n",
    "    \"Ibat\": {\"channel\" : 1, \"Tsample\" : Tsampl[4], \"Rin\" : 120},\n",
    "    \"Ibat\": {\"channel\" : 1, \"Tsample\" : Tsampl[4], \"Rin\" : 120},\n",
    "\n",
    "                }\n",
    "\n",
    "# ADC channel sampling order\n",
    "rank = [\"Ibat\", \"Ibat\", \"Ibat\", \"Ibat\"]\n",
    "\n",
    "ADC_Res = \"12\" # ADC Resolution\n",
    "Tsar = {\"12\" : 12.5, \"10\" : 10.5, \"8\" : 8.5, \"6\" : 6.5}     # ADC Resolution time SAR\n",
    "\n",
    "Tadc_clk = 1/14e6 # ADC clock time 1/ADC frequency\n",
    "\n",
    "Trigger = 60e3  # Trigger frequency\n",
    "\n",
    "Cadc = 5e-12    #ADC internal capacitor\n",
    "\n",
    "oversampling_ratio = 1\n",
    "max_value = oversampling_ratio * ((2**12) -1)\n",
    "min_bit_shift = (16, max_value.bit_length())[max_value.bit_length() > 16] - 16\n",
    "max_value_shifted = max_value >> min_bit_shift\n",
    "\n",
    "Tconv = []\n",
    "error = []\n",
    "for channel in rank:\n",
    "    Tconv.append(oversampling_ratio * (Tsar[ADC_Res] + channel_conf[channel][\"Tsample\"]) * Tadc_clk)\n",
    "    # Vo = 1 - exp(-t/RC)\n",
    "    error.append((np.exp(-(Tadc_clk * channel_conf[channel][\"Tsample\"]) / (channel_conf[channel][\"Rin\"] * Cadc))))\n",
    "\n",
    "\n",
    "print(\"Tbussy: \", sum(Tconv))\n",
    "print(\"Tfree: \", (1/Trigger) - sum(Tconv))\n",
    "print(\"Tfree(%)\", 100*((1/Trigger) - sum(Tconv)) / (1/Trigger) )\n",
    "print(\"Bit gain\", np.log(oversampling_ratio) / np.log(4))\n",
    "print(\"maximum value (oversample): \", hex(max_value))\n",
    "print(\"maximum value shifted (oversample)\", hex(max_value_shifted))\n",
    "\n",
    "print(\"========== CONF ==========\")\n",
    "print(\"Resolution: \", ADC_Res)\n",
    "print(\"Oversampling: \", oversampling_ratio, \"x\")\n",
    "print(\"Minimum Bit Shift\", min_bit_shift)\n",
    "print(\"Number of conversion: \", len(rank))\n",
    "for channel in rank:\n",
    "    print(\"Channel: \",channel)\n",
    "    print(\"Channel °N: \", channel_conf[channel][\"channel\"])\n",
    "    print(\"Sampling Time: \", channel_conf[channel][\"Tsample\"])\n",
    "\n",
    "\n",
    "\n",
    "\n"
   ]
  },
  {
   "cell_type": "code",
   "execution_count": null,
   "metadata": {},
   "outputs": [],
   "source": [
    "import scip"
   ]
  }
 ],
 "metadata": {
  "kernelspec": {
   "display_name": "Python 3.10.8 64-bit",
   "language": "python",
   "name": "python3"
  },
  "language_info": {
   "codemirror_mode": {
    "name": "ipython",
    "version": 3
   },
   "file_extension": ".py",
   "mimetype": "text/x-python",
   "name": "python",
   "nbconvert_exporter": "python",
   "pygments_lexer": "ipython3",
   "version": "3.11.3"
  },
  "orig_nbformat": 4,
  "vscode": {
   "interpreter": {
    "hash": "e7370f93d1d0cde622a1f8e1c04877d8463912d04d973331ad4851f04de6915a"
   }
  }
 },
 "nbformat": 4,
 "nbformat_minor": 2
}
